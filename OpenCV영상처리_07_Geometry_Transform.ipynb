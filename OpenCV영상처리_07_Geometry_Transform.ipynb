{
  "nbformat": 4,
  "nbformat_minor": 0,
  "metadata": {
    "colab": {
      "name": "OpenCV영상처리_07_Geometry Transform.ipynb",
      "provenance": [],
      "collapsed_sections": [],
      "authorship_tag": "ABX9TyPxYrV3YIhbO8wJJy/PtThb"
    },
    "kernelspec": {
      "name": "python3",
      "display_name": "Python 3"
    },
    "language_info": {
      "name": "python"
    }
  },
  "cells": [
    {
      "cell_type": "code",
      "execution_count": 1,
      "metadata": {
        "id": "jvyiJwWB_um9"
      },
      "outputs": [],
      "source": [
        "from google.colab.patches import cv2_imshow \n",
        "from google.colab import drive \n",
        "import cv2\n",
        "import numpy as np\n",
        "import matplotlib.pyplot as plt"
      ]
    },
    {
      "cell_type": "markdown",
      "source": [
        "# 영상 형태 변형을 위한 기하학적 변환\n",
        "\n",
        "영상의 기하학적 변환은 픽셀 좌표들의 위치 변경을 통해 공간을 재배치하여 영상 해성 용이\n",
        "\n",
        "크기(geometric), 회전(rotation) 대칭(flipping), 이동(translation), 어파인(affine)등의 변환이 있음\n",
        "\n",
        "\\\n",
        "\n",
        "영상의 기하학적 변환은 입혁영상의 픽셀 좌표를 행렬 연산을 통해 결과 영상의 픽셀 좌표로  mapping하고, 결과 영상 좌표의 픽셀값을 원영상 좌표에 복사함\n",
        "\n",
        "이때 입력 영상의 좌표(벡터)에 곱해지는 행렬과 더해지는 행렬의 정의에 때라 결과가 달라짐\n",
        "\n",
        "\\\n",
        "forward mapping\n",
        "\n",
        "기하학적 변환 시, 입력 영상의 좌표에 따라 결과 영상의 좌표가 결정되기 때문에 이를 전방향 매핑이라함\n",
        "\n",
        "\\\n",
        "\n",
        "전뱡향 매핑은 홀hole과 오버랩overlap 문제가 있다\n",
        "\n",
        "\n",
        "홀은 입력영상의 매핑 결과 좌표가 결과 영상에 존재하지 않는 경우\n",
        "\n",
        "오버랩은 입력 영상의 다른 2개의 픽셀좌표가 결과 영상의 같은 좌표로 매핑되는 경우\n",
        "\n",
        "\\\n",
        "이런 문제를 해결하기 위해 역방행backward 매핑 사용\n",
        "\n",
        "결과 영상의 각 픽셀좌표에 대응되는 입력 영상의 좌표를 역으로 구함으로써 결과 영상을 생성하는 방식\n",
        "\n",
        "빈틈없이 채워진 매핑되는 결과를 얻을 수 있지만 \n",
        "\n",
        "대응좌표값이 소수로 계산되는 경우가 있음"
      ],
      "metadata": {
        "id": "ke7oVMozwmjL"
      }
    },
    {
      "cell_type": "markdown",
      "source": [
        "# Scaling 크기 변환\n",
        "\n"
      ],
      "metadata": {
        "id": "QexDt17l4bIA"
      }
    },
    {
      "cell_type": "markdown",
      "source": [
        "최근접 이웃 보간법 구현"
      ],
      "metadata": {
        "id": "URJnbtFE4lVj"
      }
    },
    {
      "cell_type": "code",
      "source": [
        "drive.mount('/content/gdrive') \n",
        "img = cv2.imread('/content/gdrive/My Drive/Image_Processing/lena.jpg')\n",
        "\n",
        "height, width = img.shape[:2]\n",
        "output_img = cv2.resize(img,None,fx=0.5, fy=0.5, interpolation = cv2.INTER_NEAREST)#########\n",
        "\n",
        "#원래 영상 크기대로 출력\n",
        "print(\"original image\",img.shape[:2] )\n",
        "cv2_imshow(img)\n",
        "print(\"Nearest Neighbor Interpolation\",output_img.shape[:2])\n",
        "cv2_imshow(output_img)"
      ],
      "metadata": {
        "id": "OtIl6Aor5sOo"
      },
      "execution_count": null,
      "outputs": []
    },
    {
      "cell_type": "code",
      "source": [
        "drive.mount('/content/gdrive') \n",
        "img = cv2.imread('/content/gdrive/My Drive/Image_Processing/lena.jpg')\n",
        "\n",
        "height, width = img.shape[:2]\n",
        "output_img = cv2.resize(img,(2*width, 2*height), interpolation = cv2.INTER_NEAREST)########\n",
        "\n",
        "#그림을 화면에 출력\n",
        "print(\"original image\",img.shape[:2] )\n",
        "cv2_imshow(img)\n",
        "print(\"Nearest Neighbor Interpolation\",output_img.shape[:2])\n",
        "cv2_imshow(output_img)"
      ],
      "metadata": {
        "id": "OGiczUkQ556f"
      },
      "execution_count": null,
      "outputs": []
    },
    {
      "cell_type": "markdown",
      "source": [
        "양선형 보간법 구현"
      ],
      "metadata": {
        "id": "bmREFU024q_q"
      }
    },
    {
      "cell_type": "code",
      "source": [
        "drive.mount('/content/gdrive') \n",
        "img = cv2.imread('/content/gdrive/My Drive/Image_Processing/flower.bmp')\n",
        "\n",
        "height, width = img.shape[:2]\n",
        "output_img = cv2.resize(img,None,fx=0.5, fy=0.5, interpolation = cv2.INTER_LINEAR)\n",
        "\n",
        "print(\"original image\",img.shape[:2] )\n",
        "cv2_imshow(img)\n",
        "print(\"Bilinear Interpolation\",output_img.shape[:2])\n",
        "cv2_imshow(output_img)"
      ],
      "metadata": {
        "id": "n7QUNxfq4xr3"
      },
      "execution_count": null,
      "outputs": []
    },
    {
      "cell_type": "code",
      "source": [
        "drive.mount('/content/gdrive') \n",
        "img = cv2.imread('/content/gdrive/My Drive/Image_Processing/flower.bmp')\n",
        "\n",
        "height, width = img.shape[:2]\n",
        "output_img = cv2.resize(img,(2*width, 2*height), interpolation = cv2.INTER_NEAREST)\n",
        "\n",
        "print(\"original image\",img.shape[:2] )\n",
        "cv2_imshow(img)\n",
        "print(\"Bilinear Interpolation\",output_img.shape[:2])\n",
        "cv2_imshow(output_img)"
      ],
      "metadata": {
        "id": "FKIthO3O6IdN"
      },
      "execution_count": null,
      "outputs": []
    },
    {
      "cell_type": "markdown",
      "source": [
        "# Rotation 회전변환"
      ],
      "metadata": {
        "id": "ag4s3TsV4zLB"
      }
    },
    {
      "cell_type": "markdown",
      "source": [
        "회전변환 구현"
      ],
      "metadata": {
        "id": "QUQ1pjni44oI"
      }
    },
    {
      "cell_type": "code",
      "source": [
        "drive.mount('/content/gdrive') \n",
        "img = cv2.imread('/content/gdrive/My Drive/Image_Processing/airplane.bmp')\n",
        "\n",
        "rows,cols = img.shape[:2]\n",
        "# 회전점을 영상 모서리 -> 영상의 중심으로 변경\n",
        "M = cv2.getRotationMatrix2D(((cols-1)/2.0,(rows-1)/2.0),90,1)\n",
        "output_img = cv2.warpAffine(img,M,(cols*1,rows*1),flags = cv2.INTER_LINEAR)\n",
        "\n",
        "print(\"original image\",img.shape[:2] )\n",
        "cv2_imshow(img)\n",
        "print(\"Rotation Transformation\",output_img.shape[:2])\n",
        "cv2_imshow(output_img)"
      ],
      "metadata": {
        "id": "bceVDqHH4_JV"
      },
      "execution_count": null,
      "outputs": []
    },
    {
      "cell_type": "markdown",
      "source": [
        "# Flipping transform 대칭변환"
      ],
      "metadata": {
        "id": "JyMI8h9D5CfE"
      }
    },
    {
      "cell_type": "markdown",
      "source": [
        "대칭변환 구현"
      ],
      "metadata": {
        "id": "FFDRGHFg5LLC"
      }
    },
    {
      "cell_type": "code",
      "source": [
        "drive.mount('/content/gdrive') \n",
        "img = cv2.imread('/content/gdrive/My Drive/Image_Processing/airplane.bmp')\n",
        "# BGR -> RGB 변환\n",
        "img = cv2.cvtColor(img, cv2.COLOR_BGR2RGB)\n",
        "\n",
        "flipVertical = cv2.flip(img, 0)\n",
        "flipHorizontal = cv2.flip(img, 1)\n",
        "flipBoth = cv2.flip(img, -1)\n",
        " \n",
        "plt.figure(figsize=(20,20))\n",
        "plt.subplot(1,4,1)\n",
        "plt.title(\"Original image\")\n",
        "plt.imshow(img)\n",
        "plt.axis(\"off\")\n",
        "plt.subplot(1,4,2)\n",
        "plt.title(\"Flipped vertical image\")\n",
        "plt.imshow(flipVertical)\n",
        "plt.axis(\"off\")\n",
        "plt.subplot(1,4,3)\n",
        "plt.title(\"Flipped horizontal image\")\n",
        "plt.imshow(flipHorizontal)\n",
        "plt.axis(\"off\")\n",
        "plt.subplot(1,4,4)\n",
        "plt.title(\"Flipped both image\")\n",
        "plt.imshow(flipBoth)\n",
        "plt.axis(\"off\")\n",
        "plt.show()"
      ],
      "metadata": {
        "id": "C5q6PbM25Moq"
      },
      "execution_count": null,
      "outputs": []
    },
    {
      "cell_type": "markdown",
      "source": [
        "# Translation 이동변환"
      ],
      "metadata": {
        "id": "ExD2x6G_5NYO"
      }
    },
    {
      "cell_type": "markdown",
      "source": [
        "이동변환 구현"
      ],
      "metadata": {
        "id": "AsWgj2ZF5U7L"
      }
    },
    {
      "cell_type": "code",
      "source": [
        "drive.mount('/content/gdrive') \n",
        "img = cv2.imread('/content/gdrive/My Drive/Image_Processing/airplane.bmp')\n",
        "# BGR -> RGB 변환\n",
        "img = cv2.cvtColor(img, cv2.COLOR_BGR2RGB)\n",
        "\n",
        "height,width = img.shape[:2]\n",
        "M = np.float32([[1,0,100],[0,1,50]])\n",
        "out1 = cv2.warpAffine(img,M,(width,height))\n",
        "M = np.float32([[1,0,-50],[0,1,-50]])\n",
        "out2 = cv2.warpAffine(img,M,(width,height))\n",
        "\n",
        "plt.figure(figsize=(20,20))\n",
        "plt.subplot(1,3,1)\n",
        "plt.title(\"Original image\")\n",
        "plt.imshow(img)\n",
        "plt.axis(\"off\")\n",
        "plt.subplot(1,3,2)\n",
        "plt.title(\"Translation (x:100, y:50) image\")\n",
        "plt.imshow(out)\n",
        "plt.axis(\"off\")\n",
        "plt.subplot(1,3,3)\n",
        "plt.title(\"Translation (x:-50, y:-50) image\")\n",
        "plt.imshow(out2)\n",
        "plt.axis(\"off\")\n",
        "plt.show()"
      ],
      "metadata": {
        "id": "dPdCi2Yg5XvE"
      },
      "execution_count": null,
      "outputs": []
    },
    {
      "cell_type": "markdown",
      "source": [
        "# Affine Trnsformation 어파인변환"
      ],
      "metadata": {
        "id": "p3xaGpQt5f8L"
      }
    },
    {
      "cell_type": "markdown",
      "source": [
        "어파인 변환 구현"
      ],
      "metadata": {
        "id": "Gasu1NYt5lbB"
      }
    },
    {
      "cell_type": "code",
      "source": [
        "drive.mount('/content/gdrive') \n",
        "img = cv2.imread('/content/gdrive/My Drive/Image_Processing/airplane.bmp')\n",
        "resize = cv2.resize(img,None,fx=0.5, fy=0.5, interpolation = cv2.INTER_LINEAR)#영상 크기변환\n",
        "\n",
        "height,width = resize.shape[:2]\n",
        "# 회전점을 영상 모서리 -> 영상의 중심으로 변경\n",
        "M = cv2.getRotationMatrix2D(((width-1)/2.0,(height-1)/2.0),-15,1)\n",
        "\n",
        "rotate = cv2.warpAffine(resize,M,(width,height))\n",
        "M = np.float32([[1,0,30],[0,1,+20]])\n",
        "translate = cv2.warpAffine(rotate,M,(width,height))\n",
        "\n",
        "#plt.figure(figsize=(20,20))\n",
        "print(\"Original image\")\n",
        "cv2_imshow(img)\n",
        "print(\"Scaling image\")\n",
        "cv2_imshow(resize)\n",
        "print(\"Rotation (45 degree) image\")\n",
        "cv2_imshow(rotate)\n",
        "print(\"Translation (x:+30, y:+20) image\")\n",
        "cv2_imshow(translate)"
      ],
      "metadata": {
        "id": "gcYb3LP-5nzB"
      },
      "execution_count": null,
      "outputs": []
    },
    {
      "cell_type": "code",
      "source": [
        "drive.mount('/content/gdrive') \n",
        "img = cv2.imread('/content/gdrive/My Drive/Image_Processing/airplane.bmp')\n",
        "resize = cv2.resize(img,None,fx=0.5, fy=0.5, interpolation = cv2.INTER_LINEAR)#영상 크기변환\n",
        "\n",
        "height,width = resize.shape[:2]\n",
        "# 회전점을 영상 모서리로 한 경우\n",
        "M = cv2.getRotationMatrix2D((0,0),-15,1)\n",
        "rotate = cv2.warpAffine(resize,M,(width,height))\n",
        "M = np.float32([[1,0,30],[0,1,+20]])\n",
        "translate = cv2.warpAffine(rotate,M,(width,height))\n",
        "\n",
        "#plt.figure(figsize=(20,20))\n",
        "print(\"Original image\")\n",
        "cv2_imshow(img)\n",
        "print(\"Scaling image\")\n",
        "cv2_imshow(resize)\n",
        "print(\"Rotation (45 degree) image\")\n",
        "cv2_imshow(rotate)\n",
        "print(\"Translation (x:+30, y:+20) image\")\n",
        "cv2_imshow(translate)"
      ],
      "metadata": {
        "id": "83R2YVIS6kaj"
      },
      "execution_count": null,
      "outputs": []
    }
  ]
}