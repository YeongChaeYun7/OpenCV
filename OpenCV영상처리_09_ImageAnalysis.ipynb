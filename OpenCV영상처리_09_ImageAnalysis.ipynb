{
  "nbformat": 4,
  "nbformat_minor": 0,
  "metadata": {
    "colab": {
      "name": "OpenCV영상처리_09_ImageAnalysis.ipynb",
      "provenance": [],
      "collapsed_sections": [],
      "authorship_tag": "ABX9TyM2rFXj8+hEcfQvABKjfXtf"
    },
    "kernelspec": {
      "name": "python3",
      "display_name": "Python 3"
    },
    "language_info": {
      "name": "python"
    }
  },
  "cells": [
    {
      "cell_type": "code",
      "execution_count": null,
      "metadata": {
        "id": "jvyiJwWB_um9"
      },
      "outputs": [],
      "source": [
        "from google.colab.patches import cv2_imshow \n",
        "from google.colab import drive \n",
        "import cv2\n",
        "import numpy as np\n",
        "import matplotlib.pyplot as plt"
      ]
    },
    {
      "cell_type": "markdown",
      "source": [
        "# ImageAnalysis 영상 분석 기법"
      ],
      "metadata": {
        "id": "-44uOI1GLkz-"
      }
    },
    {
      "cell_type": "markdown",
      "source": [
        "# K-mean Clustering"
      ],
      "metadata": {
        "id": "wQ1vzC-gLqtO"
      }
    },
    {
      "cell_type": "markdown",
      "source": [
        "K-mean 군집화 구현 1"
      ],
      "metadata": {
        "id": "iYDEKJFlMBwo"
      }
    },
    {
      "cell_type": "code",
      "source": [
        "#25 X 2 크기의 배열 생성하고 범위안의 랜덤 정수 생성\n",
        "X = np.random.randint(25,50,(25,2))\n",
        "Y = np.random.randint(60,85,(25,2))\n",
        "# 두 배열을 연결\n",
        "Z = np.vstack((X,Y))\n",
        "\n",
        "# 배열의 값을 정수에서 실수로 변경 \n",
        "Z = np.float32(Z)\n",
        "\n",
        "# 기준을 정의하고 kmeans()함수에 적용\n",
        "criteria = (cv2.TERM_CRITERIA_EPS + cv2.TERM_CRITERIA_MAX_ITER, 10, 1.0)\n",
        "ret,label,center=cv2.kmeans(Z,2,None,criteria,10,cv2.KMEANS_RANDOM_CENTERS)\n",
        "\n",
        "# 군집을 나누기, 군집 레이블이 0인 데이터만 A 배열에 넣기\n",
        "A = Z[label.ravel()==0]\n",
        "# 군집을 나누기, 군집 레이블이 1인 데이터만 B 배열에 넣기\n",
        "B = Z[label.ravel()==1]\n",
        "\n",
        "# 군집 화면에 표시하기\n",
        "plt.scatter(A[:,0],A[:,1], c='b')\n",
        "plt.scatter(B[:,0],B[:,1],c = 'r')\n",
        "plt.scatter(center[:,0],center[:,1],s = 200,c = 'y', marker = '*')\n",
        "plt.xlabel('Height'),plt.ylabel('Weight')\n",
        "plt.show()"
      ],
      "metadata": {
        "id": "18LWbn8kMCF2"
      },
      "execution_count": null,
      "outputs": []
    },
    {
      "cell_type": "markdown",
      "source": [
        "K-mean 군집화 구현 2"
      ],
      "metadata": {
        "id": "_jjkSOGxMKRc"
      }
    },
    {
      "cell_type": "code",
      "source": [
        "drive.mount('/content/gdrive') \n",
        "#영상 불러오기\n",
        "img = cv2.imread('/content/gdrive/My Drive/Image_Processing/home3.jpg')\n",
        "#영상의 구조 변경하기\n",
        "Z = img.reshape((-1,3))\n",
        "print(Z.shape)\n",
        "\n",
        "# 배열의 값을 정수에서 실수로 변경 \n",
        "Z = np.float32(Z)\n",
        "\n",
        "# 기준을 정의하고 kmeans()함수에 적용\n",
        "criteria = (cv2.TERM_CRITERIA_EPS + cv2.TERM_CRITERIA_MAX_ITER, 10, 1.0)\n",
        "K = 5 # 군집 개수\n",
        "#ret,label,center=cv2.kmeans(Z,K,None,criteria,10,cv2.KMEANS_PP_CENTERS)\n",
        "ret,label,center=cv2.kmeans(Z,K,None,criteria,10,cv2.KMEANS_RANDOM_CENTERS)\n",
        "\n",
        "\n",
        "# center 배열의 값을 uint8 형식으로 되돌리기 (픽셀로 표현해야 함으로), and make original image\n",
        "center = np.uint8(center)\n",
        "# label배열 평평(row vector)하게 재조정\n",
        "res = center[label.flatten()]\n",
        "\n",
        "#3채널로 다시 조정\n",
        "res2 = res.reshape((img.shape))\n",
        "cv2_imshow(res2)"
      ],
      "metadata": {
        "id": "J6ADTIN6MPPg"
      },
      "execution_count": null,
      "outputs": []
    },
    {
      "cell_type": "markdown",
      "source": [
        "# Region Labrling 영역 레이블링"
      ],
      "metadata": {
        "id": "ObypL6iJMRY1"
      }
    },
    {
      "cell_type": "markdown",
      "source": [
        "영역 레이블링 구현"
      ],
      "metadata": {
        "id": "UnA8UlPCMdhH"
      }
    },
    {
      "cell_type": "code",
      "source": [
        "drive.mount('/content/gdrive') \n",
        "#영상 불러오기\n",
        "img = cv2.imread('/content/gdrive/My Drive/Image_Processing/abcdef.bmp')\n",
        "\n",
        "# color영상을 gray영상으로 만들기\n",
        "gray_img = cv2.cvtColor(img, cv2.COLOR_BGR2GRAY)\n",
        "\n",
        "# 여기에 이진화 (thresholding)코드가 입력될 수 있음\n",
        "\n",
        "# 입력 영상에서 흰색 (255) 픽셀 영역을 레이블링 (4 이웃 연산방법을 사용)\n",
        "num_labels, labels = cv2.connectedComponents(gray_img,4)\n",
        "print('number of labels:', num_labels)\n",
        "  \n",
        "# 각 영역마다 다른 색(레이블)을 갖도록 조정하는 코드\n",
        "label_H = np.uint8(179*labels/np.max(labels))\n",
        "blank = 255*np.ones_like(label_H)\n",
        "labeled_img = cv2.merge([label_H, blank, blank])\n",
        "\n",
        "# BGR\n",
        "labeled_img = cv2.cvtColor(labeled_img, cv2.COLOR_HSV2RGB)\n",
        "\n",
        "# 배경 레이블(0)은 검은색으로\n",
        "labeled_img[label_H==0] = 0\n",
        "    \n",
        "    \n",
        "# Showing Original Image\n",
        "plt.imshow(cv2.cvtColor(img, cv2.COLOR_BGR2RGB))\n",
        "plt.axis(\"off\")\n",
        "plt.title(\"Orginal Image\")\n",
        "plt.show()\n",
        "    \n",
        "# 컴포넌트 레이블링된 영상 표현하기\n",
        "plt.imshow(labeled_img)\n",
        "plt.axis('off')\n",
        "plt.title(\"Component Labeling\")\n",
        "plt.show()"
      ],
      "metadata": {
        "id": "FWXd965RMjMw"
      },
      "execution_count": null,
      "outputs": []
    },
    {
      "cell_type": "markdown",
      "source": [
        "# Contour Tracing 외곽선 추정 기법"
      ],
      "metadata": {
        "id": "vT3xomFzMmzA"
      }
    },
    {
      "cell_type": "markdown",
      "source": [
        "외곽선 추정 알고리즘 구하기"
      ],
      "metadata": {
        "id": "_efo8ghhMvg5"
      }
    },
    {
      "cell_type": "code",
      "source": [
        "drive.mount('/content/gdrive') \n",
        "#영상 불러오기\n",
        "img = cv2.imread('/content/gdrive/My Drive/Image_Processing/milkdrop.bmp')\n",
        "\n",
        "# color영상을 gray영상으로 만들기\n",
        "gray_img = cv2.cvtColor(img, cv2.COLOR_BGR2GRAY)\n",
        "\n",
        "#threshold를 이용하여 binary image로 변환\n",
        "ret, thresh = cv2.threshold(gray_img,127,255,0)\n",
        "\n",
        "#contours는 point의 list형태.\n",
        "#hierachy는 contours line의 계층 구조\n",
        "contours, hierarchy = cv2.findContours(thresh, cv2.RETR_EXTERNAL,cv2.CHAIN_APPROX_NONE)\n",
        "#영상에 외곽선 그리기\n",
        "image = cv2.drawContours(img,contours, -1, (0,0,255), 1)\n",
        "print(\"Segmented image\")\n",
        "cv2_imshow(thresh)\n",
        "print(\"Contour tracing image\")\n",
        "cv2_imshow(image)"
      ],
      "metadata": {
        "id": "vVx_juo5M2TR"
      },
      "execution_count": null,
      "outputs": []
    }
  ]
}