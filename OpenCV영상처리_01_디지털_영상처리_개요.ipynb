{
  "nbformat": 4,
  "nbformat_minor": 0,
  "metadata": {
    "colab": {
      "name": "OpenCV영상처리_01_디지털 영상처리 개요.ipynb",
      "provenance": [],
      "collapsed_sections": [],
      "authorship_tag": "ABX9TyMsUZ/CjxgbP0TgvagVdz2N",
      "include_colab_link": true
    },
    "kernelspec": {
      "name": "python3",
      "display_name": "Python 3"
    },
    "language_info": {
      "name": "python"
    }
  },
  "cells": [
    {
      "cell_type": "markdown",
      "metadata": {
        "id": "view-in-github",
        "colab_type": "text"
      },
      "source": [
        "<a href=\"https://colab.research.google.com/github/YeongChaeYun7/OpenCV/blob/main/OpenCV%EC%98%81%EC%83%81%EC%B2%98%EB%A6%AC_01_%EB%94%94%EC%A7%80%ED%84%B8_%EC%98%81%EC%83%81%EC%B2%98%EB%A6%AC_%EA%B0%9C%EC%9A%94.ipynb\" target=\"_parent\"><img src=\"https://colab.research.google.com/assets/colab-badge.svg\" alt=\"Open In Colab\"/></a>"
      ]
    },
    {
      "cell_type": "markdown",
      "source": [
        "파이썬과 코랩 기반의 OpenCV로 배우는 영상처리 실습"
      ],
      "metadata": {
        "id": "TiRy9IYmMaIu"
      }
    },
    {
      "cell_type": "markdown",
      "source": [
        "# Digital image processing\n",
        "\n",
        ": 컴퓨터 알고리즘을 이용하여 디지털 영상에 대한 일련의 정보 처리를 수행하는 학문\n",
        "\n",
        "카메라에 입력되는 영상은 아날로그 신호,\n",
        "\n",
        "디지털화 과정을 거쳐 0,1로 이루어진 상태를 디지털 영상이라 함.\n",
        "\n",
        "디지털 영상처리는 아날로그에 비해 알고리즘 적용하기 쉽고, 신호 왜곡이 적은 장점이 있다 .\n",
        "\n",
        "> 자연 영상의 디지털 영상 변환 과정\n",
        "\n",
        "1. 카메라, 스캐너 같은 디지털 영상 장치에서 입력\n",
        "2. photodiode 센서(카메라 영상 센서, 2차원 배열 형식)에 흡수\n",
        "3. 피사체에 반사된 빛의 강약을 기준으로 전기적 신호로 변환(광세기 ∝전압)\n",
        "4. 전기 신호는 Analog-to-Digital Convertor(ADC,아날로그-디지털 변환기)에 전달\n",
        "5. 디지털 신호로 변환\n",
        "\n",
        "ADC는 Sampling과 Quantizaton을 통해 전기 신호를 디지털신호로 변환\n",
        "> Sampling\n",
        "\n",
        "아날로그 신호(연속적)에서 일정 간격 주기로 신호 강도 수집\n",
        "\n",
        "주기가 짧을수록 선명하고 pixel수가 많다\n",
        "\n",
        "> Quantizaton\n",
        "\n",
        "각 Sampling단계에서 얻어진 신호값을 일정한 범위의 디지털값으로 매핑\n",
        "\n",
        "즉, Sampling data(pixel)에 숫자로 된 값 할당\n",
        "\n",
        "숫자의 범위에 따라 다양한 양자화 수준있음 (거의 0~255를 활용하는거 같음) \n",
        "\n",
        "양자화 수준은 1 pixel당 비트수를 다르게 할당할 수 있고, 표현할 수 있는 색의 범위가 달라짐\n",
        "\n",
        "각 pixel에 대한 강도(intensity)값을 얻을 수 있다.\n",
        "\n",
        "> 영상의 크기는 Sampling과 Quantizaton로 알 수 있다\n",
        "\n",
        "640x480 영상을 예로 들면 Sampling 주기 2, 양자화 수준이 1픽셀당 24비트인 경우\n",
        "\n",
        "24비트는 3바이트 이므로\n",
        "\n",
        "영상파일의 크기 = ((640/2) x (480/2)) x 3(픽셀당 바이트 수) (byte) = 230,400 byte\n",
        "\n"
      ],
      "metadata": {
        "id": "Cl00My-YMtDi"
      }
    },
    {
      "cell_type": "markdown",
      "source": [
        "# 영상처리 기초 - 픽셀, 해상도, 유형\n",
        "\n",
        "영상 처리는 컴퓨터 비전의 일종으로 인공지능의 전처리에 많이 활용된다\n",
        "\n",
        ">pixel\n",
        "\n",
        "픽셀(화소): 영상의 가장 기본 단위. 화면을 전기적으로 나눈 최소 단위 면적\n",
        "\n",
        ">resolution\n",
        "\n",
        "해상도(영상의 크기):  화면에서 표현되는 픽셀수를 나타내는 기준. \n",
        "\n",
        "(가로 픽셀수 x 세로 픽셀수)\n",
        "\n",
        "보통 pixel density를 나타내는 단위인 ppi(pixel per inch) 사용\n",
        "\n",
        ">mode\n",
        "\n",
        "영상의 유형은 크게 2가지로 나뉨\n",
        "\n",
        "1. Gray scale\n",
        "\n",
        "\t색상정보 없이 밝기 정보로만 구성된 영상.\n",
        "\n",
        "\t1픽셀이 1 byte로 구성. 색상 표현 범위가 2^8(0~255)이다 \n",
        "  \n",
        "\t0은 검정색, 255는 흰색을 나타낸다\n",
        "\t\n",
        "2. True color\n",
        "\n",
        "\t트루컬러 영상은 24 bit-True color와 32 bit-True color로 다시 나뉨\n",
        "\n",
        "  자연의 대부분의 색상을 표현할 수 잇기 때문에 트루컬러라고 부름\n",
        "\n",
        "\t- 24 bit-True color\n",
        "  : 1픽셀이 RGB조합으로 구성되며 각각 1바이트씩 할당\n",
        "\n",
        "  - 32 bit-True color\n",
        "  : RGB에 투명도를 나타내는 Alpha까지 총 4바이트 할당"
      ],
      "metadata": {
        "id": "qCEZm0F2UEP2"
      }
    },
    {
      "cell_type": "markdown",
      "source": [
        "# 영상처리 기법\n",
        "\n",
        "디지털 영상의 잡음, 회전, 왜곡 등을 당양한 영상처리 기법들을 이용하여 개선 할 수 있다\n",
        "\n",
        "1. 영상화질 개선 Image Enhancement 기법\n",
        "\n",
        "영상 잡음 제거, 밝기 성질 개선, 명암대비 개선, 선명도 향상 등을 포함\n",
        "\n",
        "2. 영상의 기하학적 변형 Geometric tranceformation 기법\n",
        "\n",
        "영상의 회전, 이동, 크기 변환 하는 기법 \n",
        "\n",
        "3. 영상 변환 Image Tranceformation\n",
        "\n",
        "영상을 보다 효과적으로 분석하기 위해 다름 형태의 데이터로 변환할 필요가 있다\n",
        "\n",
        "대표적으로는 spatial domain (공간영역)상에 존재하는 픽셀을 frequency domain 주파수 영역으로 변형하는 방법으로, \n",
        "\n",
        "이를 통해 공간 주파수 정보(영상의 명암 변화 정도를 나타냄)를 파악하기 쉬움\n",
        "\n",
        "ex- 푸라에 변환, 이산 코사인 변환, 웨이블릿 변환\n",
        "\n",
        "\n",
        "\n",
        "4. 영상 분석 Image Analysis\n",
        "\n",
        ": 영상에서 수치화된 특징을 추출하여 영상을 분류, 판독하는 과정\n",
        "\n",
        "질감, 크기, 형태, 윤곽선 등의 특징을 활용하여 \n",
        "\n",
        "Computer Vision, Pattern Recognition 기술을 통해 영상인식을 할 수 있다\n",
        "\n",
        "대표적인 기법으로 region labeling(영역 레이블링)이 있다.\n",
        "\n",
        "영상을 이진화, 그룹화 시킨 후 영역의 개수를 카운트 하는 방식이다"
      ],
      "metadata": {
        "id": "RMYrIP6VqQ0r"
      }
    },
    {
      "cell_type": "markdown",
      "source": [
        "영상불러오고 저장하기"
      ],
      "metadata": {
        "id": "ukWI0PI5PZnG"
      }
    },
    {
      "cell_type": "code",
      "execution_count": null,
      "metadata": {
        "colab": {
          "base_uri": "https://localhost:8080/",
          "height": 403
        },
        "id": "UtfkCqjJLjD3",
        "outputId": "66bbf73f-de7c-4563-dae1-8cf315a7341f"
      },
      "outputs": [
        {
          "output_type": "stream",
          "name": "stdout",
          "text": [
            "Drive already mounted at /content/gdrive; to attempt to forcibly remount, call drive.mount(\"/content/gdrive\", force_remount=True).\n"
          ]
        },
        {
          "output_type": "error",
          "ename": "AttributeError",
          "evalue": "ignored",
          "traceback": [
            "\u001b[0;31m---------------------------------------------------------------------------\u001b[0m",
            "\u001b[0;31mAttributeError\u001b[0m                            Traceback (most recent call last)",
            "\u001b[0;32m<ipython-input-5-964775ba6fe2>\u001b[0m in \u001b[0;36m<module>\u001b[0;34m()\u001b[0m\n\u001b[1;32m      8\u001b[0m \u001b[0;34m\u001b[0m\u001b[0m\n\u001b[1;32m      9\u001b[0m \u001b[0;31m#영상 화면에 표시하기\u001b[0m\u001b[0;34m\u001b[0m\u001b[0;34m\u001b[0m\u001b[0;34m\u001b[0m\u001b[0m\n\u001b[0;32m---> 10\u001b[0;31m \u001b[0mcv2_imshow\u001b[0m\u001b[0;34m(\u001b[0m\u001b[0mimg\u001b[0m\u001b[0;34m)\u001b[0m\u001b[0;34m\u001b[0m\u001b[0;34m\u001b[0m\u001b[0m\n\u001b[0m\u001b[1;32m     11\u001b[0m \u001b[0;34m\u001b[0m\u001b[0m\n\u001b[1;32m     12\u001b[0m \u001b[0;31m# 영상을 디렉토리에 새로운 이름으로 저장하기\u001b[0m\u001b[0;34m\u001b[0m\u001b[0;34m\u001b[0m\u001b[0;34m\u001b[0m\u001b[0m\n",
            "\u001b[0;32m/usr/local/lib/python3.7/dist-packages/google/colab/patches/__init__.py\u001b[0m in \u001b[0;36mcv2_imshow\u001b[0;34m(a)\u001b[0m\n\u001b[1;32m     16\u001b[0m       \u001b[0mimage\u001b[0m\u001b[0;34m.\u001b[0m\u001b[0;34m\u001b[0m\u001b[0;34m\u001b[0m\u001b[0m\n\u001b[1;32m     17\u001b[0m   \"\"\"\n\u001b[0;32m---> 18\u001b[0;31m   \u001b[0ma\u001b[0m \u001b[0;34m=\u001b[0m \u001b[0ma\u001b[0m\u001b[0;34m.\u001b[0m\u001b[0mclip\u001b[0m\u001b[0;34m(\u001b[0m\u001b[0;36m0\u001b[0m\u001b[0;34m,\u001b[0m \u001b[0;36m255\u001b[0m\u001b[0;34m)\u001b[0m\u001b[0;34m.\u001b[0m\u001b[0mastype\u001b[0m\u001b[0;34m(\u001b[0m\u001b[0;34m'uint8'\u001b[0m\u001b[0;34m)\u001b[0m\u001b[0;34m\u001b[0m\u001b[0;34m\u001b[0m\u001b[0m\n\u001b[0m\u001b[1;32m     19\u001b[0m   \u001b[0;31m# cv2 stores colors as BGR; convert to RGB\u001b[0m\u001b[0;34m\u001b[0m\u001b[0;34m\u001b[0m\u001b[0;34m\u001b[0m\u001b[0m\n\u001b[1;32m     20\u001b[0m   \u001b[0;32mif\u001b[0m \u001b[0ma\u001b[0m\u001b[0;34m.\u001b[0m\u001b[0mndim\u001b[0m \u001b[0;34m==\u001b[0m \u001b[0;36m3\u001b[0m\u001b[0;34m:\u001b[0m\u001b[0;34m\u001b[0m\u001b[0;34m\u001b[0m\u001b[0m\n",
            "\u001b[0;31mAttributeError\u001b[0m: 'NoneType' object has no attribute 'clip'"
          ]
        }
      ],
      "source": [
        "from google.colab.patches import cv2_imshow # google colab에서 영상을 출력 전용 함수\n",
        "from google.colab import drive # 여기선 드라이브를 쓰지만 file을 통해 디바이스 파일에 접근하여 가져올 수도 있음\n",
        "import cv2\n",
        "drive.mount('/content/gdrive') # colab에서 google drive에 접근하기 위한 함수\n",
        "\n",
        "# 영상 불러오기\n",
        "img = cv2.imread('/content/gdrive/My Drive/Image_Processing/lena.jpg')\n",
        "\n",
        "#영상 화면에 표시하기\n",
        "cv2_imshow(img)\n",
        "\n",
        "# 영상을 디렉토리에 새로운 이름으로 저장하기\n",
        "cv2.imwrite('/content/gdrive/My Drive/Image_Processing/lena2.jpg',img) # cv2.imwrite 영상을 지정된 경로에 저장하는 함수"
      ]
    }
  ]
}