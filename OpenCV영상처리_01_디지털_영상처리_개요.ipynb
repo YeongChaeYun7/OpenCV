{
  "nbformat": 4,
  "nbformat_minor": 0,
  "metadata": {
    "colab": {
      "name": "OpenCV영상처리_01_디지털 영상처리 개요.ipynb",
      "provenance": [],
      "authorship_tag": "ABX9TyMXULwIkBbmXprceUyWA4VQ",
      "include_colab_link": true
    },
    "kernelspec": {
      "name": "python3",
      "display_name": "Python 3"
    },
    "language_info": {
      "name": "python"
    }
  },
  "cells": [
    {
      "cell_type": "markdown",
      "metadata": {
        "id": "view-in-github",
        "colab_type": "text"
      },
      "source": [
        "<a href=\"https://colab.research.google.com/github/YeongChaeYun7/OpenCV/blob/main/OpenCV%EC%98%81%EC%83%81%EC%B2%98%EB%A6%AC_01_%EB%94%94%EC%A7%80%ED%84%B8_%EC%98%81%EC%83%81%EC%B2%98%EB%A6%AC_%EA%B0%9C%EC%9A%94.ipynb\" target=\"_parent\"><img src=\"https://colab.research.google.com/assets/colab-badge.svg\" alt=\"Open In Colab\"/></a>"
      ]
    },
    {
      "cell_type": "markdown",
      "source": [
        "파이썬과 코랩 기반의 OpenCV로 배우는 영상처리 실습"
      ],
      "metadata": {
        "id": "TiRy9IYmMaIu"
      }
    },
    {
      "cell_type": "markdown",
      "source": [
        "# Digital image processing\n",
        "\n",
        ": 컴퓨터 알고리즘을 이용하여 디지털 영상에 대한 일련의 정보 처리를 수행하는 학문\n",
        "\n",
        "카메라에 입력되는 영상은 아날로그 신호,\n",
        "\n",
        "디지털화 과정을 거쳐 0,1로 이루어진 상태를 디지털 영상이라 함.\n",
        "\n",
        "디지털 영상처리는 아날로그에 비해 알고리즘 적용하기 쉽고, 신호 왜곡이 적은 장점이 있다 .\n",
        "\n",
        "> 자연 영상의 디지털 영상 변환 과정\n",
        "\n",
        "1. 카메라, 스캐너 같은 디지털 영상 장치에서 입력\n",
        "2. photodiode 센서(카메라 영상 센서, 2차원 배열 형식)에 흡수\n",
        "3. 피사체에 반사된 빛의 강약을 기준으로 전기적 신호로 변환(광세기 ∝전압)\n",
        "4. 전기 신호는 Analog-to-Digital Convertor(ADC,아날로그-디지털 변환기)에 전달\n",
        "5. 디지털 신호로 변환\n",
        "\n",
        "ADC는 Sampling과 Quantizaton을 통해 전기 신호를 디지털신호로 변환\n",
        "> Sampling\n",
        "\n",
        "아날로그 신호(연속적)에서 일정 간격 주기로 신호 강도 수집\n",
        "\n",
        "주기가 짧을수록 선명하고 pixel수가 많다\n",
        "\n",
        "> Quantizaton\n",
        "\n",
        "각 Sampling단계에서 얻어진 신호값을 일정한 범위의 디지털값으로 매핑\n",
        "\n",
        "즉, Sampling data(pixel)에 숫자로 된 값 할당\n",
        "\n",
        "숫자의 범위에 따라 다양한 양자화 수준있음 (거의 0~255를 활용하는거 같음) \n",
        "\n",
        "양자화 수준은 1 pixel당 비트수를 다르게 할당할 수 있고, 표현할 수 있는 색의 범위가 달라짐\n",
        "\n",
        "각 pixel에 대한 강도(intensity)값을 얻을 수 있다.\n",
        "\n",
        "> 영상의 크기는 Sampling과 Quantizaton로 알 수 있다\n",
        "\n",
        "640x480 영상을 예로 들면 Sampling 주기 2, 양자화 수준이 1픽셀당 24비트인 경우\n",
        "\n",
        "24비트는 3바이트 이므로\n",
        "\n",
        "영상파일의 크기 = ((640/2) x (480/2)) x 3(픽셀당 바이트 수) (byte) = 230,400 byte\n"
      ],
      "metadata": {
        "id": "Cl00My-YMtDi"
      }
    },
    {
      "cell_type": "markdown",
      "source": [
        "# 픽셀, 해상도, 유형"
      ],
      "metadata": {
        "id": "qCEZm0F2UEP2"
      }
    },
    {
      "cell_type": "markdown",
      "source": [
        "영상불러오고 저장하기"
      ],
      "metadata": {
        "id": "ukWI0PI5PZnG"
      }
    },
    {
      "cell_type": "code",
      "execution_count": 5,
      "metadata": {
        "colab": {
          "base_uri": "https://localhost:8080/",
          "height": 403
        },
        "id": "UtfkCqjJLjD3",
        "outputId": "66bbf73f-de7c-4563-dae1-8cf315a7341f"
      },
      "outputs": [
        {
          "output_type": "stream",
          "name": "stdout",
          "text": [
            "Drive already mounted at /content/gdrive; to attempt to forcibly remount, call drive.mount(\"/content/gdrive\", force_remount=True).\n"
          ]
        },
        {
          "output_type": "error",
          "ename": "AttributeError",
          "evalue": "ignored",
          "traceback": [
            "\u001b[0;31m---------------------------------------------------------------------------\u001b[0m",
            "\u001b[0;31mAttributeError\u001b[0m                            Traceback (most recent call last)",
            "\u001b[0;32m<ipython-input-5-964775ba6fe2>\u001b[0m in \u001b[0;36m<module>\u001b[0;34m()\u001b[0m\n\u001b[1;32m      8\u001b[0m \u001b[0;34m\u001b[0m\u001b[0m\n\u001b[1;32m      9\u001b[0m \u001b[0;31m#영상 화면에 표시하기\u001b[0m\u001b[0;34m\u001b[0m\u001b[0;34m\u001b[0m\u001b[0;34m\u001b[0m\u001b[0m\n\u001b[0;32m---> 10\u001b[0;31m \u001b[0mcv2_imshow\u001b[0m\u001b[0;34m(\u001b[0m\u001b[0mimg\u001b[0m\u001b[0;34m)\u001b[0m\u001b[0;34m\u001b[0m\u001b[0;34m\u001b[0m\u001b[0m\n\u001b[0m\u001b[1;32m     11\u001b[0m \u001b[0;34m\u001b[0m\u001b[0m\n\u001b[1;32m     12\u001b[0m \u001b[0;31m# 영상을 디렉토리에 새로운 이름으로 저장하기\u001b[0m\u001b[0;34m\u001b[0m\u001b[0;34m\u001b[0m\u001b[0;34m\u001b[0m\u001b[0m\n",
            "\u001b[0;32m/usr/local/lib/python3.7/dist-packages/google/colab/patches/__init__.py\u001b[0m in \u001b[0;36mcv2_imshow\u001b[0;34m(a)\u001b[0m\n\u001b[1;32m     16\u001b[0m       \u001b[0mimage\u001b[0m\u001b[0;34m.\u001b[0m\u001b[0;34m\u001b[0m\u001b[0;34m\u001b[0m\u001b[0m\n\u001b[1;32m     17\u001b[0m   \"\"\"\n\u001b[0;32m---> 18\u001b[0;31m   \u001b[0ma\u001b[0m \u001b[0;34m=\u001b[0m \u001b[0ma\u001b[0m\u001b[0;34m.\u001b[0m\u001b[0mclip\u001b[0m\u001b[0;34m(\u001b[0m\u001b[0;36m0\u001b[0m\u001b[0;34m,\u001b[0m \u001b[0;36m255\u001b[0m\u001b[0;34m)\u001b[0m\u001b[0;34m.\u001b[0m\u001b[0mastype\u001b[0m\u001b[0;34m(\u001b[0m\u001b[0;34m'uint8'\u001b[0m\u001b[0;34m)\u001b[0m\u001b[0;34m\u001b[0m\u001b[0;34m\u001b[0m\u001b[0m\n\u001b[0m\u001b[1;32m     19\u001b[0m   \u001b[0;31m# cv2 stores colors as BGR; convert to RGB\u001b[0m\u001b[0;34m\u001b[0m\u001b[0;34m\u001b[0m\u001b[0;34m\u001b[0m\u001b[0m\n\u001b[1;32m     20\u001b[0m   \u001b[0;32mif\u001b[0m \u001b[0ma\u001b[0m\u001b[0;34m.\u001b[0m\u001b[0mndim\u001b[0m \u001b[0;34m==\u001b[0m \u001b[0;36m3\u001b[0m\u001b[0;34m:\u001b[0m\u001b[0;34m\u001b[0m\u001b[0;34m\u001b[0m\u001b[0m\n",
            "\u001b[0;31mAttributeError\u001b[0m: 'NoneType' object has no attribute 'clip'"
          ]
        }
      ],
      "source": [
        "from google.colab.patches import cv2_imshow # google colab에서 영상을 출력 전용 함수\n",
        "from google.colab import drive # 여기선 드라이브를 쓰지만 file을 통해 디바이스 파일에 접근하여 가져올 수도 있음\n",
        "import cv2\n",
        "drive.mount('/content/gdrive') # colab에서 google drive에 접근하기 위한 함수\n",
        "\n",
        "# 영상 불러오기\n",
        "img = cv2.imread('/content/gdrive/My Drive/Image_Processing/lena.jpg')\n",
        "\n",
        "#영상 화면에 표시하기\n",
        "cv2_imshow(img)\n",
        "\n",
        "# 영상을 디렉토리에 새로운 이름으로 저장하기\n",
        "cv2.imwrite('/content/gdrive/My Drive/Image_Processing/lena2.jpg',img) # cv2.imwrite 영상을 지정된 경로에 저장하는 함수"
      ]
    }
  ]
}