{
  "nbformat": 4,
  "nbformat_minor": 0,
  "metadata": {
    "colab": {
      "name": "OpenCV영상처리_05_영상의 공간적 필터링 .ipynb",
      "provenance": [],
      "collapsed_sections": [],
      "authorship_tag": "ABX9TyMvv0XNF36hauccaDIMlGfz"
    },
    "kernelspec": {
      "name": "python3",
      "display_name": "Python 3"
    },
    "language_info": {
      "name": "python"
    }
  },
  "cells": [
    {
      "cell_type": "code",
      "execution_count": 1,
      "metadata": {
        "id": "jvyiJwWB_um9"
      },
      "outputs": [],
      "source": [
        "from google.colab.patches import cv2_imshow \n",
        "from google.colab import drive \n",
        "import cv2\n",
        "import numpy as np\n",
        "import matplotlib.pyplot as plt"
      ]
    },
    {
      "cell_type": "markdown",
      "source": [
        "https://github.com/nniceko/Image-processing"
      ],
      "metadata": {
        "id": "GESWjyj5TZ-_"
      }
    },
    {
      "cell_type": "markdown",
      "source": [
        "# 영상의 공간적 필터링 기법\n",
        "\n",
        "영상에서 잡음을 제거하거나 경계선을 강조하여 영상 화질을 향상시키는 기법\n",
        "\n",
        "일반적으로 목적에 따라 kernel 혹은 filter를 정의하여 원본과 convolution 연산 수행\n",
        "\n",
        "커널을 convolution 연산을 통해 영상 선명도를 높이는 과정을 필터링이라 함\n",
        "\n",
        "\\\n",
        "convolution 연산\n",
        "\n",
        ": 입력 영상의 픽셀 밝기값을 커널의 동일 위치의 픽셀값과 곱하고, 곱한 모든 값들을 더한 값으로 대체하는 방법\n"
      ],
      "metadata": {
        "id": "dcvWJirTvnHW"
      }
    },
    {
      "cell_type": "markdown",
      "source": [
        "\n",
        "\n",
        "# Mean Filtering 평균 필터링\n",
        "\n",
        "입력 영상의 픽셀 밝기값을 주변 픽셀들의 밝기값 평균으로 대체\n",
        "\n",
        "-> 영상 Smoothing, 영상 잡음을 줄임\n",
        "\n",
        "커널 크기에 따라 영상 스무딩 정도 결정(크가와 효과 비례)\n",
        "\n",
        "주변 픽셀에 모두 동일한 가중치 부여\n"
      ],
      "metadata": {
        "id": "v8g7_fcA1IHj"
      }
    },
    {
      "cell_type": "markdown",
      "source": [
        "평균 필터링 구현(1)"
      ],
      "metadata": {
        "id": "CJfM-m-01bZi"
      }
    },
    {
      "cell_type": "markdown",
      "source": [
        "평균 필터링 구현(2)"
      ],
      "metadata": {
        "id": "obmk7U1x1ibq"
      }
    },
    {
      "cell_type": "markdown",
      "source": [
        "\n",
        "\n",
        "# Median Filtering 중간값 필터링\n",
        "\n",
        "입력 영상의 현재 픽셀을 중심으로 커널을 씌우고, \n",
        "\n",
        "커널 안에 포함된 주변 픽셀들을 밝기값 기준으로 정렬(추가연산필요)하여 중간에 위치한 값으로 대체\n",
        "\n",
        "중간값 필터링은 비선형 필터로 기존 주변의 밝기값 그대로 사용하여 선명도 유지\n",
        "\n",
        "(평균 필터는 연산으로 새로운 값 생성)\n",
        "\n",
        "\n"
      ],
      "metadata": {
        "id": "mBWD8Eip1K2p"
      }
    },
    {
      "cell_type": "markdown",
      "source": [
        "중간값 필터링 구현"
      ],
      "metadata": {
        "id": "dkszR7BH3T1D"
      }
    },
    {
      "cell_type": "markdown",
      "source": [
        "# Gaussian Filtering 가우시안 필터링\n",
        "\n",
        "가우시안 분포를 따르는 가우시안 커널을 사용하여 영상의 잡음 제거\n",
        "\n",
        "주변 픽셀에 다른 가중치 부여. 중심 픽셀일수록 높은 가중치 가짐\n",
        "\n",
        "경계선 정보를 유지잘하여 영상 세밀함 보존이 잘되고 자연스러운 영상 스무딩 가능\n",
        "\n",
        "\\\n",
        "가우시안 커널 정의를 위해 2차원 가우시안 분포로 2차원상의 가우시안 분포 필요\n",
        "\n",
        "-> 중심이 가장 높은 값 가짐 \n",
        "\n",
        "표준편차가 클수록 넓고 완만한 분포. 영상의 잡음에 따라 표준편차 조절\n",
        "\n",
        "\n",
        "\n",
        "\n",
        "\n"
      ],
      "metadata": {
        "id": "9MoONGAW1UDI"
      }
    },
    {
      "cell_type": "markdown",
      "source": [
        "가우시안 필터링 구현"
      ],
      "metadata": {
        "id": "FGUT_8816lZ-"
      }
    },
    {
      "cell_type": "markdown",
      "source": [
        "# Conservation Smoothing 보존 스무딩\n",
        "\n",
        "입력 영상의 픽셀값이 주변 픽셀과 비교했을 때 너무 높거나 낮은 경우 잡음으로 가정, 가장 가까운 픽셀값으로 대체함\n",
        "\n",
        "경계선을 유지하면서 점단위로 튀는 임펄스 잡음제거에 효과적\n",
        "\n",
        "가우시안 잡음같은 부가 잡음 제거는 효과 적음\n",
        "\n",
        "비선형 필터로 중간값 필터링처럼 주변 픽셀값을 그대로 이용"
      ],
      "metadata": {
        "id": "LUe3YrB01VgE"
      }
    },
    {
      "cell_type": "markdown",
      "source": [
        "보존 스무딩 구현"
      ],
      "metadata": {
        "id": "4oGlTYXx7-AQ"
      }
    },
    {
      "cell_type": "markdown",
      "source": [
        "# Unsharp Filtering 언샤프 필터링\n",
        "\n",
        "경계선같은 고주파 성분을 강조하는 기법\n",
        "\n",
        "blurred 영상의 선명도를 향상시키기 위하여 주로 이용\n",
        "\n",
        "고주파 성분에 해당하는 에지 정보를 구하여 원본과 덧셈연산하여 새로운 영상 구함\n",
        "\n",
        "덧셈연산에서 원본에 가중치를 더하여 고주파 성분 강조 정도 조절\n",
        "\n",
        "에지 정보는 원본에서 원본을 스무딩한 것을 뺄셈연산하여 구함"
      ],
      "metadata": {
        "id": "kFmRMf151WvS"
      }
    },
    {
      "cell_type": "markdown",
      "source": [
        "언새프 필터링 구하기"
      ],
      "metadata": {
        "id": "Qu6ldd4O-LLi"
      }
    }
  ]
}