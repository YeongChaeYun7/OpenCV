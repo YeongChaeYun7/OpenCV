{
  "nbformat": 4,
  "nbformat_minor": 0,
  "metadata": {
    "colab": {
      "name": "OpenCV영상처리_05_영상의 공간적 필터링 .ipynb",
      "provenance": [],
      "collapsed_sections": [],
      "authorship_tag": "ABX9TyO1Uylwz9H9TjzwrKd0q2Qc"
    },
    "kernelspec": {
      "name": "python3",
      "display_name": "Python 3"
    },
    "language_info": {
      "name": "python"
    }
  },
  "cells": [
    {
      "cell_type": "code",
      "execution_count": 1,
      "metadata": {
        "id": "jvyiJwWB_um9"
      },
      "outputs": [],
      "source": [
        "from google.colab.patches import cv2_imshow \n",
        "from google.colab import drive \n",
        "import cv2\n",
        "import numpy as np\n",
        "import matplotlib.pyplot as plt"
      ]
    },
    {
      "cell_type": "markdown",
      "source": [
        "# 영상의 공간적 필터링 기법\n",
        "\n",
        "영상에서 잡음을 제거하거나 경계선을 강조하여 영상 화질을 향상시키는 기법\n",
        "\n",
        "일반적으로 목적에 따라 kernel 혹은 filter를 정의하여 원본과 convolution 연산 수행\n",
        "\n",
        "커널을 convolution 연산을 통해 영상 선명도를 높이는 과정을 필터링이라 함\n",
        "\n",
        "\\\n",
        "convolution 연산\n",
        "\n",
        ": 입력 영상의 픽셀 밝기값을 커널의 동일 위치의 픽셀값과 곱하고, 곱한 모든 값들을 더한 값으로 대체하는 방법\n"
      ],
      "metadata": {
        "id": "dcvWJirTvnHW"
      }
    },
    {
      "cell_type": "markdown",
      "source": [
        "\n",
        "\n",
        "# Mean Filtering 평균 필터링\n",
        "\n",
        "입력 영상의 픽셀 밝기값을 주변 픽셀들의 밝기값 평균으로 대체\n",
        "\n",
        "-> 영상 Smoothing, 영상 잡음을 줄임\n",
        "\n",
        "커널 크기에 따라 영상 스무딩 정도 결정(크가와 효과 비례)\n",
        "\n",
        "주변 픽셀에 모두 동일한 가중치 부여\n"
      ],
      "metadata": {
        "id": "v8g7_fcA1IHj"
      }
    },
    {
      "cell_type": "markdown",
      "source": [
        "평균 필터링 구현\n",
        "\n",
        "영상 스무딩으로 잡음이 갑소되었으나 테두리 부분이 뭉개짐\n",
        "\n",
        "스무딩 효과를 높이려면 커널의 크기를 크게하면 된다"
      ],
      "metadata": {
        "id": "CJfM-m-01bZi"
      }
    },
    {
      "cell_type": "code",
      "source": [
        "drive.mount('/content/gdrive') \n",
        "\n",
        "img = cv2.imread('/content/gdrive/My Drive/Image_Processing/fce(salt&pepper noise).bmp')\n",
        "# color -> gray\n",
        "gray_img = cv2.cvtColor(img, cv2.COLOR_BGR2GRAY)\n",
        "# 계수가 1로 구성된 3x3커널 생성\n",
        "kernel = np.ones((3,3),np.float32)/9 # 값을 1로 세팅 후 9개로 나누어 커널 계수 설정\n",
        "output_img = cv2.filter2D(gray_img,-1,kernel) # 만들어진 커널을 원본에 적용\n",
        "\n",
        "plt.figure(figsize=(20,20))\n",
        "plt.subplot(1,2,1)\n",
        "plt.title(\"Image1\")\n",
        "plt.imshow(gray_img, cmap='gray')\n",
        "plt.axis(\"off\")\n",
        "plt.subplot(1,2,2)\n",
        "plt.title(\"Mean filtering Image\")\n",
        "plt.imshow(output_img, cmap='gray')\n",
        "plt.axis(\"off\")\n",
        "plt.show()"
      ],
      "metadata": {
        "id": "ybw-IIg-h7F6"
      },
      "execution_count": null,
      "outputs": []
    },
    {
      "cell_type": "markdown",
      "source": [
        "cv2.blur()이용 평균 필터링 구현\n",
        "\n",
        "결과는 위 연산과 동일\n",
        "\n",
        "cv2.blur()는 상대적으로 쉽게 필터링 구현가능 \n",
        "\n",
        "cv2.filter2D()는 커널 계수를 일일이 지정하는 대신 원하는 필터링 설계 가능"
      ],
      "metadata": {
        "id": "obmk7U1x1ibq"
      }
    },
    {
      "cell_type": "code",
      "source": [
        "drive.mount('/content/gdrive') \n",
        "img = cv2.imread('/content/gdrive/My Drive/Image_Processing/fce(salt&pepper noise).bmp')\n",
        "\n",
        "gray_img = cv2.cvtColor(img, cv2.COLOR_BGR2GRAY)\n",
        "# 3x3커널 적용\n",
        "output_img = cv2.blur(gray_img,(3,3))\n",
        "\n",
        "plt.figure(figsize=(20,20))\n",
        "plt.subplot(1,2,1)\n",
        "plt.title(\"Image1\")\n",
        "plt.imshow(gray_img, cmap='gray')\n",
        "plt.axis(\"off\")\n",
        "plt.subplot(1,2,2)\n",
        "plt.title(\"Mean filtering Image\")\n",
        "plt.imshow(output_img, cmap='gray')\n",
        "plt.axis(\"off\")\n",
        "plt.show()"
      ],
      "metadata": {
        "id": "pGarfskHiQ0Q"
      },
      "execution_count": null,
      "outputs": []
    },
    {
      "cell_type": "markdown",
      "source": [
        "\n",
        "\n",
        "# Median Filtering 중간값 필터링\n",
        "\n",
        "입력 영상의 현재 픽셀을 중심으로 커널을 씌우고, \n",
        "\n",
        "커널 안에 포함된 주변 픽셀들을 밝기값 기준으로 정렬(추가연산필요)하여 중간에 위치한 값으로 대체\n",
        "\n",
        "중간값 필터링은 비선형 필터로 기존 주변의 밝기값 그대로 사용하여 선명도 유지\n",
        "\n",
        "(평균 필터는 연산으로 새로운 값 생성)\n",
        "\n",
        "경계선같은 고주파 성분 보존이 잘되면서 잡음 제거하는 장점이 있으나 \n",
        "\n",
        "중간값 찾는 과정에서 추가적인 정렬 필요\n",
        "\n"
      ],
      "metadata": {
        "id": "mBWD8Eip1K2p"
      }
    },
    {
      "cell_type": "markdown",
      "source": [
        "중간값 필터링 구현\n",
        "\n",
        "위의 평균필터링에 비해 잡음 감소 효과 적음. 대신 Salt&Pepper 잡음은 화질저하 적게 더 제거잘됨"
      ],
      "metadata": {
        "id": "dkszR7BH3T1D"
      }
    },
    {
      "cell_type": "code",
      "source": [
        "drive.mount('/content/gdrive') \n",
        "\n",
        "img = cv2.imread('/content/gdrive/My Drive/Image_Processing/fce(salt&pepper noise).bmp')\n",
        "\n",
        "gray_img = cv2.cvtColor(img, cv2.COLOR_BGR2GRAY)\n",
        "\n",
        "output_img = cv2.medianBlur(gray_img,5) # 5x5 중간값 커널 적용\n",
        "\n",
        "plt.figure(figsize=(20,20))\n",
        "plt.subplot(1,2,1)\n",
        "plt.title(\"Image1\")\n",
        "plt.imshow(gray_img, cmap='gray')\n",
        "plt.axis(\"off\")\n",
        "plt.subplot(1,2,2)\n",
        "plt.title(\"Median filtering Image\")\n",
        "plt.imshow(output_img, cmap='gray')\n",
        "plt.axis(\"off\")\n",
        "plt.show()"
      ],
      "metadata": {
        "id": "gZE1KDpbiVuq"
      },
      "execution_count": null,
      "outputs": []
    },
    {
      "cell_type": "markdown",
      "source": [
        "# Gaussian Filtering 가우시안 필터링\n",
        "\n",
        "가우시안 분포를 따르는 가우시안 커널을 사용하여 영상의 잡음 제거\n",
        "\n",
        "가우시안 분포를 보이는 잡음 제거에 효과적\n",
        "\n",
        "주변 픽셀에 다른 가중치 부여. 중심 픽셀일수록 높은 가중치 가짐\n",
        "\n",
        "경계선 정보를 유지잘하여 영상 세밀함 보존이 잘되고 자연스러운 영상 스무딩 가능\n",
        "\n",
        "\\\n",
        "가우시안 커널 정의를 위해 2차원 가우시안 분포로 2차원상의 가우시안 분포 필요\n",
        "\n",
        "-> 중심이 가장 높은 값 가짐 \n",
        "\n",
        "표준편차가 클수록 넓고 완만한 분포. 영상의 잡음에 따라 표준편차 조절\n",
        "\n",
        "\\\n",
        "즉, 커널의 크기나 커널의 표준편차가 클수록 출력되는 스무딩도 커짐\n",
        "\n",
        "\n",
        "\n",
        "\n"
      ],
      "metadata": {
        "id": "9MoONGAW1UDI"
      }
    },
    {
      "cell_type": "markdown",
      "source": [
        "가우시안 필터링 구현\n",
        "\n",
        "중간값 필터링에 비해 경계성 같은 고주파 부분이 더 뚜렷함"
      ],
      "metadata": {
        "id": "FGUT_8816lZ-"
      }
    },
    {
      "cell_type": "code",
      "source": [
        "drive.mount('/content/gdrive') \n",
        "\n",
        "img = cv2.imread('/content/gdrive/My Drive/Image_Processing/fce(salt&pepper noise).bmp')\n",
        "\n",
        "gray_img = cv2.cvtColor(img, cv2.COLOR_BGR2GRAY)\n",
        "\n",
        "output_img = cv2.GaussianBlur(gray_img,(5,5),1)# 5x5 가우시안 커널 적용\n",
        "\n",
        "plt.figure(figsize=(20,20))\n",
        "plt.subplot(1,2,1)\n",
        "plt.title(\"Image1\")\n",
        "plt.imshow(gray_img, cmap='gray')\n",
        "plt.axis(\"off\")\n",
        "plt.subplot(1,2,2)\n",
        "plt.title(\"Gaussian filtering Image\")\n",
        "plt.imshow(output_img, cmap='gray')\n",
        "plt.axis(\"off\")\n",
        "plt.show()"
      ],
      "metadata": {
        "id": "t7w-mz1yidf5"
      },
      "execution_count": null,
      "outputs": []
    },
    {
      "cell_type": "markdown",
      "source": [
        "# Conservation Smoothing 보존 스무딩\n",
        "\n",
        "입력 영상의 픽셀값이 주변 픽셀과 비교했을 때 너무 높거나 낮은 경우 잡음으로 가정, 가장 가까운 픽셀값으로 대체함\n",
        "\n",
        "경계선을 유지하면서 점단위로 튀는 임펄스 잡음제거에 효과적\n",
        "\n",
        "가우시안 잡음같은 부가 잡음 제거는 효과 적음\n",
        "\n",
        "비선형 필터로 중간값 필터링처럼 주변 픽셀값을 그대로 이용\n",
        "\n",
        "중간값 필터링에 비해 잡음 제거 성능이 떨어지지만 고주파 성분 보존이 더 잘됨"
      ],
      "metadata": {
        "id": "LUe3YrB01VgE"
      }
    },
    {
      "cell_type": "markdown",
      "source": [
        "보존 스무딩 구현"
      ],
      "metadata": {
        "id": "4oGlTYXx7-AQ"
      }
    },
    {
      "cell_type": "code",
      "source": [
        "drive.mount('/content/gdrive') \n",
        "\n",
        "img = cv2.imread('/content/gdrive/My Drive/Image_Processing/Lena-Gaussian-noise1.jpg')\n",
        "\n",
        "gray_img = cv2.cvtColor(img, cv2.COLOR_BGR2GRAY)\n",
        "output_img = np.zeros((img.shape[0],img.shape[1]))\n",
        "center=0\n",
        "current=0\n",
        "min=255;\n",
        "max=0;\n",
        "ed=1 # 3x3커널일 경우 1, 5x5 커널일 경우 2\n",
        "\n",
        "for h in range(ed,img.shape[0]-ed,1):\n",
        "  for w in range(ed, img.shape[1]-ed,1):\n",
        "      #초기값 설정\n",
        "      center = gray_img[h,w]\n",
        "      min = gray_img[h-ed,w-ed]\n",
        "      max = gray_img[h-ed,w-ed]\n",
        "      #최대, 최소 구하기\n",
        "      for m in range(-ed,ed,1):\n",
        "         for n in range(-ed,ed,1):\n",
        "            if( m==0 and n==0):\n",
        "              continue\n",
        "            else:\n",
        "              current = gray_img[h+m,w+n]\n",
        "            if (min > current):\n",
        "              min = current\n",
        "            if (max < current):\n",
        "              max = current   \n",
        "      if (center> min and center < max):\n",
        "        output_img[h,w] = center\n",
        "      elif (center > max):\n",
        "        center = max\n",
        "      elif (center < min):\n",
        "        center = min\n",
        "      output_img[h,w] = center\n",
        "\n",
        "plt.figure(figsize=(20,20))\n",
        "plt.subplot(1,2,1)\n",
        "plt.title(\"Image1\")\n",
        "plt.imshow(gray_img, cmap='gray')\n",
        "plt.axis(\"off\")\n",
        "plt.subplot(1,2,2)\n",
        "plt.title(\"Conservative Smoothing Image\")\n",
        "plt.imshow(output_img, cmap='gray')\n",
        "plt.axis(\"off\")\n",
        "plt.show()"
      ],
      "metadata": {
        "id": "WNxy3kgJil6u"
      },
      "execution_count": null,
      "outputs": []
    },
    {
      "cell_type": "markdown",
      "source": [
        "# Unsharp Filtering 언샤프 필터링\n",
        "\n",
        "경계선같은 고주파 성분을 강조하는 기법\n",
        "\n",
        "blurred 영상의 선명도를 향상시키기 위하여 주로 이용\n",
        "\n",
        "고주파 성분에 해당하는 에지 정보를 구하여 원본과 덧셈연산하여 새로운 영상 구함\n",
        "\n",
        "덧셈연산에서 원본에 가중치를 더하여 고주파 성분 강조 정도 조절\n",
        "\n",
        "에지 정보는 원본에서 원본을 스무딩한 것을 뺄셈연산하여 구함"
      ],
      "metadata": {
        "id": "kFmRMf151WvS"
      }
    },
    {
      "cell_type": "markdown",
      "source": [
        "언새프 필터링 구하기\n",
        "\n",
        "- cv2.addWeighted(src1, alpha, src2, beta, 0.0) \n",
        "\n",
        "alpha,  beta는 앞의 인자의 가중치, 마지막 인자는 추가로 더해줄 값\n",
        "\n",
        "- cv2.addWeighted(src1, alpha, src2, beta, 0.0) \n",
        "\n",
        "\\\n",
        "고주파 성분이 강조된 것을 확인 할 수 있음\n",
        "\n",
        "그러나 잡음이 고주파로 인식되면 화질이 나빠질 수 있으므로 원본 잡음제거 후 활용 많이 함\n"
      ],
      "metadata": {
        "id": "Qu6ldd4O-LLi"
      }
    },
    {
      "cell_type": "code",
      "source": [
        "drive.mount('/content/gdrive') \n",
        "\n",
        "img = cv2.imread('/content/gdrive/My Drive/Image_Processing/Lena-Gaussian-noise1.jpg')\n",
        "#img = cv2.imread('/content/gdrive/My Drive/Image_Processing/lena.jpg')\n",
        "gray_img = cv2.cvtColor(img, cv2.COLOR_BGR2GRAY)\n",
        "#edge_img = np.zeros((img.shape[0],img.shape[1]))\n",
        "\n",
        "# 5x5커널 적용\n",
        "mean_img = cv2.blur(gray_img,(5,5))\n",
        "\n",
        "edge_img = cv2.addWeighted(gray_img, 1.0, mean_img, -1.0, 0) # gray_img에서 mean_img를 빼는 효과\n",
        "output_img = cv2.addWeighted(gray_img, 1.0, edge_img, 3.0, 0) # edge_img에 가중치 x3배 하여 원본과 가중치 결합\n",
        "\n",
        "plt.figure(figsize=(20,20))\n",
        "plt.subplot(1,3,1)\n",
        "plt.title(\"Image1\")\n",
        "plt.imshow(gray_img, cmap='gray')\n",
        "plt.axis(\"off\")\n",
        "plt.subplot(1,3,2)\n",
        "plt.title(\"Edge Image\")\n",
        "plt.imshow(edge_img, cmap='gray')\n",
        "plt.axis(\"off\")\n",
        "plt.subplot(1,3,3)\n",
        "plt.title(\"Unsharped Image\")\n",
        "plt.imshow(output_img, cmap='gray')\n",
        "plt.axis(\"off\")\n",
        "plt.show()"
      ],
      "metadata": {
        "id": "dufoqSL9is4h"
      },
      "execution_count": null,
      "outputs": []
    }
  ]
}