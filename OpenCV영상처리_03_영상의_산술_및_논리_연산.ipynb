{
  "nbformat": 4,
  "nbformat_minor": 0,
  "metadata": {
    "colab": {
      "name": "OpenCV영상처리_03_영상의 산술 및 논리 연산.ipynb",
      "provenance": [],
      "collapsed_sections": [],
      "authorship_tag": "ABX9TyNYJBjUdwz5v3zA4q+pJRQz",
      "include_colab_link": true
    },
    "kernelspec": {
      "name": "python3",
      "display_name": "Python 3"
    },
    "language_info": {
      "name": "python"
    }
  },
  "cells": [
    {
      "cell_type": "markdown",
      "metadata": {
        "id": "view-in-github",
        "colab_type": "text"
      },
      "source": [
        "<a href=\"https://colab.research.google.com/github/YeongChaeYun7/OpenCV/blob/main/OpenCV%EC%98%81%EC%83%81%EC%B2%98%EB%A6%AC_03_%EC%98%81%EC%83%81%EC%9D%98_%EC%82%B0%EC%88%A0_%EB%B0%8F_%EB%85%BC%EB%A6%AC_%EC%97%B0%EC%82%B0.ipynb\" target=\"_parent\"><img src=\"https://colab.research.google.com/assets/colab-badge.svg\" alt=\"Open In Colab\"/></a>"
      ]
    },
    {
      "cell_type": "code",
      "execution_count": 1,
      "metadata": {
        "id": "UVc6yF0ndGmi"
      },
      "outputs": [],
      "source": [
        "from google.colab.patches import cv2_imshow \n",
        "from google.colab import drive \n",
        "import cv2\n",
        "import numpy as np\n",
        "import matplotlib.pyplot as plt"
      ]
    },
    {
      "cell_type": "markdown",
      "source": [
        "영상처리에서 가장 기본적인 처리 단위는 픽셀이다\n",
        "\n",
        "픽셀I를 매핑함수f에 적용하면 픽셀O를 얻을 수 있음\n",
        "\n",
        "O(x,y) = f[I(x,y)]"
      ],
      "metadata": {
        "id": "VTdQ1XrtGObt"
      }
    },
    {
      "cell_type": "markdown",
      "source": [
        "# Pixel Addition\n",
        "\n",
        "동일한 크기의 영상 2개 더하기 -> 대응되는 좌표의 픽셀들을 더하여 출력\n",
        "\n",
        "임의의 상수값 더하기 -> 하나의 입력 영상 전체에 동일하게 상수값 적용\n",
        "\n",
        "주의할 점은 연산 결과가 255(픽셀 최댓값)을 넘으면 Overflow발생(260의 경우 5로 출력)\n",
        "\n",
        "> Overflow 해결법\n",
        "\n",
        "- Saturation\n",
        "\n",
        "픽셀값이 설정된 최대값을 초과할 경우 미리 설정한 최대값(255) 출력\n",
        "\n",
        "- Wrapping\n",
        "\n",
        "픽셀값이 설정된 최대값을 초과할 경우 초과된 값에서 최대값+1 뺀 값 \n",
        "\n",
        "- 최대 최소 정규화 방법 max-min normalization\n",
        "\n",
        "입력된 픽셀을 미리 설정한 최대값과 최소값 사이값으로 재계산"
      ],
      "metadata": {
        "id": "ic2VK2MMHoDz"
      }
    },
    {
      "cell_type": "markdown",
      "source": [
        "# Pixel Subtraction\n",
        "\n",
        "더하기 연산과 마찬가지로 대응되는 좌표의 각 픽셀들을 빼서 출력\n",
        "\n",
        "결과값이 음수가 될 수 있으므로 이를 방지하기 위해 절대값으로 출력하기도 함\n",
        "\n",
        "하나의 영상에서 임의의 상수값을 뺄 수도 있음\n"
      ],
      "metadata": {
        "id": "tmZ2w0aDHsq7"
      }
    },
    {
      "cell_type": "markdown",
      "source": [
        "# Pixel Multiplication \n",
        "\n",
        "픽셀의 곱은 동일 크기의 두 영상에서 대응되는 좌표의 픽셀곱 연산이다\n",
        "\n",
        "하나의 영상에 임의의 상수를 곱할 수도 있다\n",
        "\n",
        "이때 상수값이 1보다 작은 부동소수점일 경우, 밝기(intensity)가 떨어져서 출력될 수 있음\n",
        "\n",
        "컬러영상에선 R,G,B 채널별로 상수값을 다르게하여 출력 영상의 색상조정이 가능하다\n",
        "\n",
        "픽셀 곱셈에서 Overflow는 픽셀 덧셈연산과 같은 해결법 사용"
      ],
      "metadata": {
        "id": "wDFlCCN7Hs89"
      }
    },
    {
      "cell_type": "markdown",
      "source": [
        "# Pixel Division\n",
        "\n",
        "픽셀의 나누기는 동일 크기의 두 영상에서 대응되는 좌표의 픽셀을 나누는 방식이다\n",
        "\n",
        "하나의 영상에 임의의 상수를 나눌 수도 있다\n",
        "\n",
        "연산된 값이 부동소수점일 경우, 출력영상에선 정수형이 입력되어야하므로\n",
        "\n",
        "소수점이하를 버리거나 반올림 처리함"
      ],
      "metadata": {
        "id": "8pmqvGN5Rrmx"
      }
    }
  ]
}