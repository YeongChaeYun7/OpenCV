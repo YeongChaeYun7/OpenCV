{
  "nbformat": 4,
  "nbformat_minor": 0,
  "metadata": {
    "colab": {
      "name": "OpenCV영상처리_08_Morpology 기법.ipynb",
      "provenance": [],
      "collapsed_sections": [],
      "authorship_tag": "ABX9TyOmtAt+PgSDMSqiMzRm4sAD"
    },
    "kernelspec": {
      "name": "python3",
      "display_name": "Python 3"
    },
    "language_info": {
      "name": "python"
    }
  },
  "cells": [
    {
      "cell_type": "code",
      "execution_count": null,
      "metadata": {
        "id": "jvyiJwWB_um9"
      },
      "outputs": [],
      "source": [
        "from google.colab.patches import cv2_imshow \n",
        "from google.colab import drive \n",
        "import cv2\n",
        "import numpy as np\n",
        "import matplotlib.pyplot as plt"
      ]
    },
    {
      "cell_type": "markdown",
      "source": [
        "# 모폴로지(형태학) 연산을 이용한 영상처리\n",
        "\n",
        "- 모폴로지 연산자(Morphological Operator)\n",
        "\n",
        "  모폴로지 연산자란 입력으로 이진영상과 구조요소를 받고\n",
        "\n",
        "  연산 집합(교집합, 합집합,여집합, 포함)을 이용하여 둘을 결합함\n",
        "\n",
        "  (일반적으로 이진 영상을 입력받으나 그레이, 컬러도 가능하긴 함)\n",
        "\n",
        "  \\\n",
        "\n",
        "  모폴로지 연산자는 구조요소의 특성에따라 기본연산자와 정교연산자로 나뉨\n",
        "\n",
        "  기본적 연산자는 구조요소의 값이 전경(foreground : 1인 영역)과 고려안함(don`t care : 아무것도 표시안된 영역)으로 이루어짐\n",
        "\n",
        "  정교 연산자sophisticated는 추가로 배경(background : 0인 영역)을 포함함\n",
        "\n",
        "- 구조요소(Structure Element)\n",
        "\n"
      ],
      "metadata": {
        "id": "G6dV-tt266io"
      }
    }
  ]
}