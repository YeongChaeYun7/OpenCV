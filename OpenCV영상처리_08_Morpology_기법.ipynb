{
  "nbformat": 4,
  "nbformat_minor": 0,
  "metadata": {
    "colab": {
      "name": "OpenCV영상처리_08_Morpology 기법.ipynb",
      "provenance": [],
      "collapsed_sections": [],
      "authorship_tag": "ABX9TyOgYm6vO6IWi9mhtzZ+fYzf"
    },
    "kernelspec": {
      "name": "python3",
      "display_name": "Python 3"
    },
    "language_info": {
      "name": "python"
    }
  },
  "cells": [
    {
      "cell_type": "code",
      "execution_count": 1,
      "metadata": {
        "id": "jvyiJwWB_um9"
      },
      "outputs": [],
      "source": [
        "from google.colab.patches import cv2_imshow \n",
        "from google.colab import drive \n",
        "import cv2\n",
        "import numpy as np\n",
        "import matplotlib.pyplot as plt"
      ]
    },
    {
      "cell_type": "markdown",
      "source": [
        "# 모폴로지(형태학) 연산을 이용한 영상처리\n",
        "\n",
        "# 모폴로지 연산자(Morphological Operator)\n",
        "\n",
        "  모폴로지 연산자란 입력으로 이진영상과 구조요소를 받고\n",
        "\n",
        "  연산 집합(교집합, 합집합,여집합, 포함)을 이용하여 둘을 결합함\n",
        "\n",
        "  (일반적으로 이진 영상을 입력하나 그레이, 컬러영상도 가능하긴 함)\n",
        "\n",
        "  \\\n",
        "\n",
        "  모폴로지 연산자는 구조요소의 특성에따라 기본연산자와 정교연산자로 나뉨\n",
        "\n",
        "  기본적 연산자는 구조요소의 값이 전경(foreground : 1인 영역)과 고려안함(don`t care : 아무것도 표시안된 영역)으로 이루어짐\n",
        "\n",
        "  정교 연산자sophisticated는 추가로 배경(background : 0인 영역)을 포함함\n",
        "\n",
        "\n",
        "\n"
      ],
      "metadata": {
        "id": "G6dV-tt266io"
      }
    },
    {
      "cell_type": "markdown",
      "source": [
        "# 구조요소(Structure Element)\n",
        "\n",
        "구조요소는 커널kernel이라고도 하지만 컨벌루션의 커널과 다른 개념이다\n",
        "\n",
        "구조요소 특정 구조를 지닌 마스크 형태, 요소는 아래 셋 중 하나를 가짐\n",
        "\n",
        "1 / don`t care (빈칸) / 0 \n",
        "\n",
        "또 요소 중 하나는 원점origin을 나타내는데\n",
        "\n",
        "같은 모양, 요소의 구조요소여도 원점이 다르면 결과가 다르게 나타남\n",
        "\n"
      ],
      "metadata": {
        "id": "eE8UPtERhJwB"
      }
    },
    {
      "cell_type": "markdown",
      "source": [
        "# 팽창연산 (Dilation)"
      ],
      "metadata": {
        "id": "B_DOD8hslhYd"
      }
    },
    {
      "cell_type": "markdown",
      "source": [
        "팽창 연산 구현"
      ],
      "metadata": {
        "id": "dGPuri4g92BU"
      }
    },
    {
      "cell_type": "code",
      "source": [
        "drive.mount('/content/gdrive')\n",
        "img = cv2.imread('/content/gdrive/My Drive/Image_Processing/char.bmp')\n",
        "kernel = np.ones((3,3),np.uint8)\n",
        "dilation = cv2.dilate(img,kernel,iterations = 1)\n",
        "print(\"Original image\")\n",
        "cv2_imshow(img)\n",
        "print(\"Dilated image\")\n",
        "cv2_imshow(dilation)\n",
        "print(\"Edge image\")\n",
        "cv2_imshow(dilation-img)"
      ],
      "metadata": {
        "id": "O7xSzm3LwE0J"
      },
      "execution_count": null,
      "outputs": []
    },
    {
      "cell_type": "markdown",
      "source": [
        "cv2.dilate 함수 이용하여 그레이 영상의 팽창연산 구현"
      ],
      "metadata": {
        "id": "qCW6apgowUQI"
      }
    },
    {
      "cell_type": "code",
      "source": [
        "img = cv2.imread('/content/gdrive/My Drive/Image_Processing/rice.bmp',0)\n",
        "kernel = np.ones((3,3),np.uint8)\n",
        "#kernel = cv2.getStructuringElement(cv2.MORPH_ELLIPSE,(3,3))\n",
        "#kernel = cv2.getStructuringElement(cv2.MORPH_CROSS,(3,3))\n",
        "dilation = cv2.dilate(img,kernel,iterations = 2)\n",
        "dilation3 = cv2.dilate(dilation,kernel,iterations = 3)\n",
        "print(\"Original image\")\n",
        "cv2_imshow(img)\n",
        "print(\"Gray dialtion 1\")\n",
        "cv2_imshow(dilation)\n",
        "print(\"Gray dialtion 3\")\n",
        "cv2_imshow(dilation3)"
      ],
      "metadata": {
        "id": "h2_dS4jiwR3i"
      },
      "execution_count": null,
      "outputs": []
    },
    {
      "cell_type": "markdown",
      "source": [
        "팽창 공식사용하여 그레이 영상의 팽창연산 구현"
      ],
      "metadata": {
        "id": "4FQ66B_mwmef"
      }
    },
    {
      "cell_type": "markdown",
      "source": [
        "# 침식연산(Erosion)"
      ],
      "metadata": {
        "id": "xp1svi_Pwy3-"
      }
    },
    {
      "cell_type": "markdown",
      "source": [
        "침식연산 구현"
      ],
      "metadata": {
        "id": "hsNzLw0Sw5P6"
      }
    },
    {
      "cell_type": "code",
      "source": [
        "img = cv2.imread('/content/gdrive/My Drive/Image_Processing/char.bmp')\n",
        "kernel = np.ones((3,3),np.uint8)\n",
        "erosion1 = cv2.erode(img,kernel,iterations = 1)\n",
        "print(\"Original image\")\n",
        "cv2_imshow(img)\n",
        "print(\"Erosion 1 image\")\n",
        "cv2_imshow(erosion1)"
      ],
      "metadata": {
        "id": "VoocWo7Cwyl0"
      },
      "execution_count": null,
      "outputs": []
    },
    {
      "cell_type": "markdown",
      "source": [
        "그레이 영상의 침식 연산"
      ],
      "metadata": {
        "id": "q9JGHMmxw-6h"
      }
    },
    {
      "cell_type": "code",
      "source": [
        "img = cv2.imread('/content/gdrive/My Drive/Image_Processing/rice.bmp')\n",
        "kernel = np.ones((3,3),np.uint8)\n",
        "erode1 = cv2.erode(img,kernel,iterations = 1)\n",
        "erode3 = cv2.erode(img,kernel,iterations = 3)\n",
        "print(\"Original image\")\n",
        "cv2_imshow(img)\n",
        "print(\"Erosion 1 image\")\n",
        "cv2_imshow(erode1)\n",
        "print(\"Erosion 3 image\")\n",
        "cv2_imshow(erode3)"
      ],
      "metadata": {
        "id": "RWW_ppFnxEe4"
      },
      "execution_count": null,
      "outputs": []
    },
    {
      "cell_type": "markdown",
      "source": [
        "침식 공식을 이용한 그레이 영상의 침식 연산"
      ],
      "metadata": {
        "id": "O3IgEftaxOoF"
      }
    },
    {
      "cell_type": "markdown",
      "source": [
        "# 열림연산(Openig)"
      ],
      "metadata": {
        "id": "_5bHeSeoxX1E"
      }
    },
    {
      "cell_type": "markdown",
      "source": [
        "열림연산 구현"
      ],
      "metadata": {
        "id": "9pW7ycyhxcDr"
      }
    },
    {
      "cell_type": "code",
      "source": [
        "img1 = cv2.imread('/content/gdrive/My Drive/Image_Processing/Picture4.png')\n",
        "img2 = cv2.imread('/content/gdrive/My Drive/Image_Processing/rice.bmp')\n",
        "kernel = np.ones((5,5),np.uint8)\n",
        "opening1 = cv2.morphologyEx(img1, cv2.MORPH_OPEN, kernel)\n",
        "opening2 = cv2.morphologyEx(img2, cv2.MORPH_OPEN, kernel)\n",
        "print(\"Original image\")\n",
        "cv2_imshow(img1)\n",
        "print(\"Binary opening\")\n",
        "cv2_imshow(opening1)\n",
        "print(\"Original image\")\n",
        "cv2_imshow(img2)\n",
        "print(\"Gray opening\")\n",
        "cv2_imshow(opening2)"
      ],
      "metadata": {
        "id": "Z2OVMrVKxffp"
      },
      "execution_count": null,
      "outputs": []
    },
    {
      "cell_type": "markdown",
      "source": [
        "# 닫힘연산(Closing)"
      ],
      "metadata": {
        "id": "ob3wz8IwxhH8"
      }
    },
    {
      "cell_type": "markdown",
      "source": [
        "그레이 연산의 닫힘연산 구현"
      ],
      "metadata": {
        "id": "QPVjj2hXxkx1"
      }
    },
    {
      "cell_type": "code",
      "source": [
        "img = cv2.imread('/content/gdrive/My Drive/Image_Processing/aero2.bmp')\n",
        "kernel = np.ones((5,5),np.uint8)\n",
        "closing = cv2.morphologyEx(img, cv2.MORPH_CLOSE, kernel)\n",
        "print(\"Original image\")\n",
        "cv2_imshow(img)\n",
        "print(\"Closing gray image\")\n",
        "cv2_imshow(closing)"
      ],
      "metadata": {
        "id": "sAEBHPk5xsx9"
      },
      "execution_count": null,
      "outputs": []
    }
  ]
}